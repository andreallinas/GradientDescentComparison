{
 "cells": [
  {
   "cell_type": "code",
   "execution_count": 48,
   "metadata": {},
   "outputs": [],
   "source": [
    "import numpy as np\n",
    "import pandas as pd\n",
    "import statsmodels.formula.api as smf\n",
    "from numpy import linalg as LA\n",
    "from sklearn.preprocessing import StandardScaler\n",
    "import time"
   ]
  },
  {
   "cell_type": "code",
   "execution_count": 3,
   "metadata": {},
   "outputs": [
    {
     "name": "stdout",
     "output_type": "stream",
     "text": [
      "     County  Crime  Income    HS  Urban\n",
      "0   ALACHUA    104    22.1  82.7   73.2\n",
      "1     BAKER     20    25.8  64.1   21.5\n",
      "2       BAY     64    24.7  74.7   85.0\n",
      "3  BRADFORD     50    24.6  65.0   23.2\n",
      "4   BREVARD     64    30.5  82.3   91.9\n"
     ]
    }
   ],
   "source": [
    "data = pd.read_csv('https://stat4ds.rwth-aachen.de/data/Florida.dat', delim_whitespace=True)\n",
    "print(data.head())"
   ]
  },
  {
   "cell_type": "code",
   "execution_count": 53,
   "metadata": {},
   "outputs": [],
   "source": [
    "X = data[['Income', 'HS']].values\n",
    "y = data['Crime'].values.reshape(-1, 1)\n",
    "\n",
    "X = np.hstack([np.ones((X.shape[0], 1)), X])\n",
    "\n",
    "scaler = StandardScaler()\n",
    "X[:, 1:] = scaler.fit_transform(X[:, 1:])"
   ]
  },
  {
   "cell_type": "code",
   "execution_count": 54,
   "metadata": {},
   "outputs": [
    {
     "name": "stdout",
     "output_type": "stream",
     "text": [
      "GD Parameters:\n",
      " [[52.40061786]\n",
      " [ 5.07344906]\n",
      " [ 8.98569416]]\n",
      "Iterations: 10000\n",
      "Runtime : 0.1248772144317627\n"
     ]
    }
   ],
   "source": [
    "# Gradient Descent \n",
    "def gd(X, y, step_size=0.001, tol=1e-6, max_iter=10000):\n",
    "    m, n = X.shape\n",
    "    theta = np.zeros((n, 1))\n",
    "    iter = 0\n",
    "\n",
    "    for i in range(max_iter):\n",
    "        y_tilde = X @ theta\n",
    "        error = y_tilde - y\n",
    "        gradient = (1 / m) * (X.T @ error)\n",
    "        theta -= step_size * gradient\n",
    "        if np.linalg.norm(gradient) < tol:\n",
    "            break\n",
    "        iter += 1\n",
    "\n",
    "    return theta, iter\n",
    "\n",
    "start_time = time.time()\n",
    "theta_gd, iters_gd = gd(X, y, step_size=0.001, tol=1e-6, max_iter=10000)\n",
    "end_time = time.time()\n",
    "\n",
    "runtime_gd = end_time - start_time\n",
    "\n",
    "print(\"GD Parameters:\\n\", theta_gd)\n",
    "print(\"Iterations:\", iters_gd)\n",
    "print(\"Runtime :\", runtime_gd)"
   ]
  },
  {
   "cell_type": "code",
   "execution_count": 57,
   "metadata": {},
   "outputs": [
    {
     "name": "stdout",
     "output_type": "stream",
     "text": [
      "SGD:\n",
      " [[52.30504008]\n",
      " [ 4.78878591]\n",
      " [ 9.26698609]]\n",
      "Iterations: 10000\n",
      "Runtime : 11.29434084892273\n"
     ]
    }
   ],
   "source": [
    "def sgd(X, y, step_size=0.001, tol=1e-6, max_iter=10000):\n",
    "    m, n = X.shape\n",
    "    theta = np.zeros((n, 1)) \n",
    "    iter = 0\n",
    "    for epoch in range(max_iter):\n",
    "        for i in range(m): \n",
    "            yi = y[i].reshape(-1, 1) \n",
    "            xi = X[i, :].reshape(1, -1)  \n",
    "            y_tilde = xi @ theta\n",
    "            error = y_tilde - yi\n",
    "            gradient = xi.T @ error\n",
    "            theta -= step_size * gradient\n",
    "            if np.linalg.norm(gradient) < tol:\n",
    "                break\n",
    "        iter += 1\n",
    "        if np.linalg.norm(gradient) < tol:\n",
    "            break\n",
    "    return theta, iter\n",
    "\n",
    "start_time = time.time()\n",
    "theta_sgd, iters_sgd = sgd(X, y, step_size=0.001, tol=1e-6, max_iter=10000)\n",
    "end_time = time.time()\n",
    "\n",
    "runtime_sgd = end_time - start_time\n",
    "\n",
    "print(\"SGD:\\n\", theta_sgd)\n",
    "print(\"Iterations:\", iters_sgd)\n",
    "print(\"Runtime :\", runtime_sgd)"
   ]
  },
  {
   "cell_type": "code",
   "execution_count": 55,
   "metadata": {},
   "outputs": [
    {
     "name": "stdout",
     "output_type": "stream",
     "text": [
      "GD w Momentum Parameters:\n",
      " [[52.40298507]\n",
      " [ 4.79226272]\n",
      " [ 9.26688073]]\n",
      "Iterations: 6339\n",
      "Runtime : 0.11550235748291016\n"
     ]
    }
   ],
   "source": [
    "def gdm(X, y, step_size=0.001, tol=1e-6, max_iter=10000, beta=0.9):\n",
    "    m, n = X.shape\n",
    "    theta = np.zeros((n, 1))  \n",
    "    velocity = np.zeros((n, 1)) \n",
    "    iter = 0\n",
    "\n",
    "    for i in range(max_iter):\n",
    "        y_tilde = X @ theta\n",
    "        error = y_tilde - y\n",
    "        gradient = (1 / m) * (X.T @ error)\n",
    "        velocity = beta * velocity + step_size * gradient\n",
    "        theta -= velocity\n",
    "        if np.linalg.norm(gradient) < tol:\n",
    "            break\n",
    "        iter += 1\n",
    "    return theta, iter\n",
    "\n",
    "start_time = time.time()\n",
    "theta_gdm, iters_gdm = gdm(X, y, step_size=0.001, tol=1e-6, max_iter=10000, beta=0.9)\n",
    "end_time = time.time()\n",
    "\n",
    "runtime_gdm = end_time - start_time\n",
    "\n",
    "print(\"GD w Momentum Parameters:\\n\", theta_gdm)\n",
    "print(\"Iterations:\", iters_gdm)\n",
    "print(\"Runtime :\", runtime_gdm)\n"
   ]
  }
 ],
 "metadata": {
  "kernelspec": {
   "display_name": "Python 3",
   "language": "python",
   "name": "python3"
  },
  "language_info": {
   "codemirror_mode": {
    "name": "ipython",
    "version": 3
   },
   "file_extension": ".py",
   "mimetype": "text/x-python",
   "name": "python",
   "nbconvert_exporter": "python",
   "pygments_lexer": "ipython3",
   "version": "3.11.9"
  }
 },
 "nbformat": 4,
 "nbformat_minor": 2
}
